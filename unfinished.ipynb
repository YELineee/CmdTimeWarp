{
 "cells": [
  {
   "cell_type": "code",
   "execution_count": null,
   "metadata": {},
   "outputs": [],
   "source": [
    "import os\n",
    "from datetime import datetime"
   ]
  },
  {
   "cell_type": "code",
   "execution_count": null,
   "metadata": {},
   "outputs": [],
   "source": [
    "history_file_path = \"~/.zsh_history\"\n",
    "\n",
    "# 展开路径\n",
    "expanded_history_file_path = os.path.expanduser(history_file_path)\n",
    "\n",
    "# 打开历史文件并读取内容\n",
    "with open(expanded_history_file_path, \"r\", encoding='ISO-8859-1') as history_file:\n",
    "   history_content = history_file.read()\n"
   ]
  },
  {
   "cell_type": "code",
   "execution_count": null,
   "metadata": {},
   "outputs": [],
   "source": [
    "print(history_content.split(\"\\n\")[0:10])"
   ]
  },
  {
   "cell_type": "code",
   "execution_count": null,
   "metadata": {},
   "outputs": [],
   "source": [
    "lines = history_content.split(\"\\n\")\n",
    "\n",
    "# Initialize an empty dictionary to store the commands\n",
    "commands = {}\n",
    "unused = []\n",
    "\n",
    "# Iterate over the lines\n",
    "for line in lines:\n",
    "   # Split the line into timestamp, command number, and command\n",
    "   parts = line.split(\";\", 1)\n",
    "   if len(parts) == 2:  # Check if the split operation resulted in two parts\n",
    "      timestamp, command = parts  # Unpack the parts\n",
    "      if timestamp:  # Check if the timestamp is not empty\n",
    "         timestamp_value = datetime.fromtimestamp(int(timestamp.split(\":\")[1]))\n",
    "         year = timestamp_value.year\n",
    "         month = timestamp_value.month\n",
    "         day = timestamp_value.day\n",
    "         hour = timestamp_value.hour\n",
    "         minute = timestamp_value.minute\n",
    "         second = timestamp_value.second\n",
    "         conments = command\n",
    "\n",
    "         key = len(commands) + 1\n",
    "         commands[key] = {\n",
    "            'timestamp': {'year':year,'month': month, 'day': day, 'hour': hour, 'minute': minute, 'second': second},\n",
    "            'command': command,\n",
    "         }\n",
    "      else:\n",
    "         unused.append(line)\n",
    "   else:\n",
    "      unused.append(line)\n",
    "\n"
   ]
  },
  {
   "cell_type": "code",
   "execution_count": null,
   "metadata": {},
   "outputs": [],
   "source": [
    "commands"
   ]
  }
 ],
 "metadata": {
  "kernelspec": {
   "display_name": "Python 3",
   "language": "python",
   "name": "python3"
  },
  "language_info": {
   "codemirror_mode": {
    "name": "ipython",
    "version": 3
   },
   "file_extension": ".py",
   "mimetype": "text/x-python",
   "name": "python",
   "nbconvert_exporter": "python",
   "pygments_lexer": "ipython3",
   "version": "3.11.9"
  }
 },
 "nbformat": 4,
 "nbformat_minor": 2
}
